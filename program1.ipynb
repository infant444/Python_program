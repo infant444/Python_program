{
  "nbformat": 4,
  "nbformat_minor": 0,
  "metadata": {
    "colab": {
      "provenance": [],
      "name": "program1.ipynb",
      "authorship_tag": "ABX9TyMjKaPwTqqz7XKtyOrbCdii",
      "include_colab_link": true
    },
    "kernelspec": {
      "name": "python3",
      "display_name": "Python 3"
    },
    "language_info": {
      "name": "python"
    }
  },
  "cells": [
    {
      "cell_type": "markdown",
      "metadata": {
        "id": "view-in-github",
        "colab_type": "text"
      },
      "source": [
        "<a href=\"https://colab.research.google.com/github/infant444/Python_program/blob/main/program1.ipynb\" target=\"_parent\"><img src=\"https://colab.research.google.com/assets/colab-badge.svg\" alt=\"Open In Colab\"/></a>"
      ]
    },
    {
      "cell_type": "markdown",
      "source": [
        "#Day2"
      ],
      "metadata": {
        "id": "YZpwkdTP7M8Y"
      }
    },
    {
      "cell_type": "code",
      "execution_count": 1,
      "metadata": {
        "id": "cUhSb4G3y3wP",
        "colab": {
          "base_uri": "https://localhost:8080/"
        },
        "outputId": "1751d00c-5c47-4584-d530-ba9fc4b6a4a0"
      },
      "outputs": [
        {
          "output_type": "stream",
          "name": "stdout",
          "text": [
            "Hello World\n"
          ]
        }
      ],
      "source": [
        "print(\"Hello World\")"
      ]
    },
    {
      "cell_type": "markdown",
      "source": [
        "#Arithmetic"
      ],
      "metadata": {
        "id": "0T-gIg3m3NIm"
      }
    },
    {
      "cell_type": "code",
      "source": [
        "a=int(input(\"Enter the value of a \"))\n",
        "b=int(input(\"Enter the value of b \"))\n",
        "d=input(\"choose the option\")\n",
        "c=0\n",
        "if (d==\"+\"):\n",
        "   c=a+b\n",
        "elif (d==\"-\"):\n",
        "  c=a-b\n",
        "elif (d==\"*\"):\n",
        "  c=a*b\n",
        "elif (d==\"/\"):\n",
        "  c=a/b\n",
        "else:\n",
        "  print(\"Choose wrong option\")\n",
        "\n",
        "print(\"sum is \",c)"
      ],
      "metadata": {
        "colab": {
          "base_uri": "https://localhost:8080/"
        },
        "id": "-3RqM5S93Y9Z",
        "outputId": "08faeb9f-7c00-46e3-d10d-1c38ae5784e5"
      },
      "execution_count": 6,
      "outputs": [
        {
          "output_type": "stream",
          "name": "stdout",
          "text": [
            "Enter the value of a 45\n",
            "Enter the value of b 35\n",
            "choose the option-\n",
            "sum is  10\n"
          ]
        }
      ]
    },
    {
      "cell_type": "markdown",
      "source": [
        "#Day 4"
      ],
      "metadata": {
        "id": "rRuAjeOS7E7m"
      }
    },
    {
      "cell_type": "code",
      "source": [
        "class Student:\n",
        "  print(\"hello World\")\n",
        "x=Student()"
      ],
      "metadata": {
        "colab": {
          "base_uri": "https://localhost:8080/"
        },
        "id": "UT_R7H5M5qpF",
        "outputId": "d12b7fed-2c6f-4eeb-8f3f-073478188532"
      },
      "execution_count": 7,
      "outputs": [
        {
          "output_type": "stream",
          "name": "stdout",
          "text": [
            "hello World\n"
          ]
        }
      ]
    },
    {
      "cell_type": "code",
      "source": [
        "class Student:\n",
        "  y=\"Infant\"\n",
        "  print(\"hello World\")\n",
        "  def xyz(self):\n",
        "    print(self.y)\n",
        "x=Student()\n",
        "x.xyz()#self=>this"
      ],
      "metadata": {
        "id": "9EmrtT9f-CsQ",
        "outputId": "1170884b-c6e0-4720-8104-7e990c8129fb",
        "colab": {
          "base_uri": "https://localhost:8080/"
        }
      },
      "execution_count": 11,
      "outputs": [
        {
          "output_type": "stream",
          "name": "stdout",
          "text": [
            "hello World\n",
            "Infant\n"
          ]
        }
      ]
    }
  ]
}