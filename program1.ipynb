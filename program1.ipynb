{
  "nbformat": 4,
  "nbformat_minor": 0,
  "metadata": {
    "colab": {
      "provenance": [],
      "name": "program1.ipynb",
      "authorship_tag": "ABX9TyNEe60vuhKVWJRXYl3MS3aH",
      "include_colab_link": true
    },
    "kernelspec": {
      "name": "python3",
      "display_name": "Python 3"
    },
    "language_info": {
      "name": "python"
    }
  },
  "cells": [
    {
      "cell_type": "markdown",
      "metadata": {
        "id": "view-in-github",
        "colab_type": "text"
      },
      "source": [
        "<a href=\"https://colab.research.google.com/github/infant444/Python_program/blob/main/program1.ipynb\" target=\"_parent\"><img src=\"https://colab.research.google.com/assets/colab-badge.svg\" alt=\"Open In Colab\"/></a>"
      ]
    },
    {
      "cell_type": "code",
      "execution_count": 1,
      "metadata": {
        "id": "cUhSb4G3y3wP",
        "colab": {
          "base_uri": "https://localhost:8080/"
        },
        "outputId": "1751d00c-5c47-4584-d530-ba9fc4b6a4a0"
      },
      "outputs": [
        {
          "output_type": "stream",
          "name": "stdout",
          "text": [
            "Hello World\n"
          ]
        }
      ],
      "source": [
        "print(\"Hello World\")"
      ]
    },
    {
      "cell_type": "markdown",
      "source": [
        "#Arithmetic"
      ],
      "metadata": {
        "id": "0T-gIg3m3NIm"
      }
    },
    {
      "cell_type": "code",
      "source": [
        "a=int(input(\"Enter the value of a \"))\n",
        "b=int(input(\"Enter the value of b \"))\n",
        "d=input(\"choose the option\")\n",
        "c=0\n",
        "if (d==\"+\"):\n",
        "   c=a+b\n",
        "elif (d==\"-\"):\n",
        "  c=a-b\n",
        "elif (d==\"*\"):\n",
        "  c=a*b\n",
        "elif (d==\"/\"):\n",
        "  c=a/b\n",
        "else:\n",
        "  print(\"Choose wrong option\")\n",
        "\n",
        "print(\"sum is \",c)"
      ],
      "metadata": {
        "colab": {
          "base_uri": "https://localhost:8080/"
        },
        "id": "-3RqM5S93Y9Z",
        "outputId": "08faeb9f-7c00-46e3-d10d-1c38ae5784e5"
      },
      "execution_count": 6,
      "outputs": [
        {
          "output_type": "stream",
          "name": "stdout",
          "text": [
            "Enter the value of a 45\n",
            "Enter the value of b 35\n",
            "choose the option-\n",
            "sum is  10\n"
          ]
        }
      ]
    }
  ]
}